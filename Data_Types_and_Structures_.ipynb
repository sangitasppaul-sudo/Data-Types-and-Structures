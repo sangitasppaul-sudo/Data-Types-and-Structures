{
  "nbformat": 4,
  "nbformat_minor": 0,
  "metadata": {
    "colab": {
      "provenance": []
    },
    "kernelspec": {
      "name": "python3",
      "display_name": "Python 3"
    },
    "language_info": {
      "name": "python"
    }
  },
  "cells": [
    {
      "cell_type": "markdown",
      "source": [
        "# **Data Types and Structures Questions**"
      ],
      "metadata": {
        "id": "xPH_nZIjb5du"
      }
    },
    {
      "cell_type": "markdown",
      "source": [
        "# **1.\tWhat are data structures, and why are they important?**\n",
        "- A data structure is a way of organizing, storing, and managing data in a computer so it can be used efficiently. It defines how the data is arranged in memory and how different operations (like insertion, deletion, searching, and updating) can be performed on that data.  \n",
        "**Types of Data Structures:**   \n",
        "  **1. Primitive Data Structures:**\n",
        "  Basic types: int, float, char, boolean, etc.  \n",
        "  **2. Non-Primitive Data Structures:**\n",
        "  Linear: Arrays, Linked Lists, Stacks, Queues\n",
        "  Non-linear: Trees, Graphs\n",
        "  Hash-based: Hash tables, Hash maps  \n",
        "  **Data Structures are Important because**   \n",
        "  **1.Efficient Data Management** – Helps store and retrieve data quickly.\n",
        "  **2.Optimized Performance** – Choosing the right structure makes programs run faster and use less memory.   \n",
        "  **3.Reusability** – Many structures can be reused in different programs.  \n",
        "  **4.Scalability** – Makes it easier to handle large and complex datasets.\n",
        "  **5.Problem Solving** – Some problems (like shortest path, searching, scheduling) can only be solved effectively using specific data structures.\n",
        "# **2.\tExplain the difference between mutable and immutable data types with examples.**\n",
        "  - Mutable vs Immutable Data Types   \n",
        "  **1. Mutable Data Types**\n",
        "  These can be changed/modified after creation.\n",
        "  You can add, remove, or update elements without creating a new object.\n",
        "  Examples in Python:   \n",
        "  List  \n",
        "  Dictionary  \n",
        "  Set   \n",
        "  Example:  \n",
        "  numbers = [1, 2, 3]   \n",
        "  print(numbers)        # [1, 2, 3]   \n",
        "  numbers[0] = 10       # Changing first element  \n",
        "  print(numbers)        # [10, 2, 3]  \n",
        "  **2. Immutable Data Types**   \n",
        "  These cannot be changed after creation.\n",
        "  Any modification creates a new object in memory.\n",
        "  Examples in Python:   \n",
        "  String  \n",
        "  Tuple   \n",
        "  Integer, Float, Boolean   \n",
        "  **Example (String - Immutable):**   \n",
        "  name = \"Python\"   \n",
        "  print(name)           # Python    \n",
        "  name = name + \"3.10\"  # Creates a new string object   \n",
        "  print(name)           # Python3.10    \n",
        "# **3.\tWhat are the main differences between lists and tuples in Python?**\n",
        "  - Lists vs Tuples in Python   \n",
        "  **1. Lists**\n",
        "  Mutable → Elements can be changed (added, removed, updated).  \n",
        "  Syntax → Defined with square brackets [].   \n",
        "  Slower than tuples (because they allow modifications).    \n",
        "  Suitable when data needs to change frequently.    \n",
        "  Example (List):\n",
        "  my_list = [10, 20, 30]    \n",
        "  my_list[0] = 100   # Changing element   \n",
        "  print(my_list)     # [100, 20, 30]    \n",
        "  **2. Tuples**\n",
        "  Immutable → Elements cannot be changed after creation.    \n",
        "  Syntax → Defined with parentheses ().     \n",
        "  Faster than lists (because they are fixed).   \n",
        "  Suitable for fixed collections of data.   \n",
        "  Example (Tuple):    \n",
        "  my_tuple = (10, 20, 30)   \n",
        "  .# my_tuple[0] = 100   Error: Tuples cannot be modified    \n",
        "  print(my_tuple)     # (10, 20, 30)    \n",
        "# **4.\tDescribe how dictionaries store data.**\n",
        "  - How Dictionaries Store Data in Python\n",
        "  A dictionary in Python stores data in the form of key–value pairs.\n",
        "  - Each key is unique.\n",
        "  - Each value is linked to its key.\n",
        "  - Keys work like an index, but unlike lists/tuples, they don’t have to be numbers—they can be strings, numbers, or other immutable types.   \n",
        "  **Internal Working**  \n",
        "  - Python dictionaries use a hashing technique.\n",
        "  - When you create a dictionary, Python runs a hash function on each key- this produces a unique number (hash value).\n",
        "  - That hash value decides where the key–value pair is stored in memory (like a quick lookup table).\n",
        "  - because of hashing, dictionary lookups (dict[key]) are very fast (average O(1) time).   \n",
        "  **Example**   \n",
        "  student = {   \n",
        "    \"name\": \"Rahul\",    \n",
        "    \"age\": 20,    \n",
        "    \"course\": \"Python\"    \n",
        "    }   \n",
        "  print(student[\"name\"])   # Rahul    \n",
        "  print(student[\"age\"])    # 20   \n",
        "  Here:   \n",
        "  - \"name\", \"age\", \"course\" → keys\n",
        "  - \"Rahul\", 20, \"Python\" → values\n",
        "  - Dictionary pairs stored internally using hashing for quick access.  \n",
        "  **Key Features**  \n",
        "  - Unordered (till Python 3.6) → From Python 3.7+, dictionaries preserve insertion order.  \n",
        "  - Mutable → You can add, update, or delete key-value pairs.\n",
        "  - Unique Keys → No duplicate keys allowed (latest value overrides the old one).   \n",
        "  Fast Access → Faster than lists/tuples for searching data by key.   \n",
        "# **5.\tWhy might you use a set instead of a list in Python?**\n",
        "  - A set in Python is an unordered collection of unique elements, while a list allows duplicates and preserves order.    \n",
        "  **1. Avoiding Duplicates**\n",
        "  - A set automatically removes duplicate values.   \n",
        "  numbers = [1, 2, 2, 3, 3, 4]    \n",
        "  unique_numbers = set(numbers)   \n",
        "  print(unique_numbers)   # {1, 2, 3, 4}    \n",
        "  **2. Faster Membership Testing**    \n",
        "  - Checking if an item exists (in) is much faster in a set (uses hashing) than in a list.    \n",
        "  my_list = [1, 2, 3, 4, 5]   \n",
        "  my_set = {1, 2, 3, 4, 5}    \n",
        "  print(3 in my_list)  # Slower (searches one by one)   \n",
        "  print(3 in my_set)   # Faster (hash lookup)     \n",
        "  **3. Mathematical Operations**    \n",
        "  - Sets allow easy operations like union, intersection, difference.    \n",
        "  A = {1, 2, 3}   \n",
        "  B = {3, 4, 5}   \n",
        "  print(A | B)   # Union → {1, 2, 3, 4, 5}    \n",
        "  print(A & B)   # Intersection → {3}   \n",
        "# **6.\tWhat is a string in Python, and how is it different from a list?**\n",
        "  - String in Python: A string is a sequence of characters enclosed in quotes (' ' or \" \" or ''' ''').    \n",
        "  Example:\n",
        "  text = \"Hello World\"    \n",
        "  Strings are immutable → once created, they cannot be changed.   \n",
        "  **String Different from a List**    \n",
        "  **1.String**    \n",
        "  **Definition:** Sequence of characters\n",
        "  **Syntax:** Enclosed in quotes (\"Python\")\n",
        "  **Mutability:** Immutable (cannot be changed)\n",
        "  **Element Type:** Only characters\n",
        "  **Modification:** Must create a new string to “change” it\n",
        "  **Methods:** String-specific methods (upper(), split())\n",
        "  **Example:** \"hello\"[1] → 'e'   \n",
        "  **2. List**   \n",
        "  **Definition:** Sequence of elements (numbers, strings, etc.)\n",
        "  **Syntax:** Enclosed in square brackets ([1, 2, 3])\n",
        "  **Mutability:** Mutable (can be modified)\n",
        "  **Element Type:** Can hold mixed data types\n",
        "  **Modification:** Can add, remove, or update elements\n",
        "  **Methods:** List-specific methods (append(), pop())\n",
        "  **Example:** [10, 20, 30][1] → 20   \n",
        "# **7. How do tuples ensure data integrity in Python?**\n",
        "  - Tuples Ensure Data Integrity in Python:A tuple is an immutable sequence type in Python.   \n",
        "  *Immutable means once a tuple is created, its elements cannot be changed, added, or removed.    \n",
        "  *Because of this immutability, tuples are a reliable way to store fixed data that must not be accidentally modified.    \n",
        "  **Ways Tuples Ensure Data Integrity**     \n",
        "  **1.No Accidental Changes**     \n",
        "  *Lists can be changed easily (elements updated, deleted, inserted).   \n",
        "  *Tuples lock the data so nothing can be altered by mistake.     \n",
        "  **2.Safe for Sensitive Data**   \n",
        "  *Useful when data should remain constant, such as configuration values, coordinates, database records, etc.   \n",
        "  *Example: Storing GPS coordinates → (22.5726, 88.3639) (latitude, longitude).   \n",
        "  **3.Hashable (Can be Dictionary Keys / Set Elements)**    \n",
        "  *Since tuples don’t change, they can be used as keys in dictionaries or elements in sets, ensuring reliable lookups.\n",
        "# **8.\tWhat is a hash table, and how does it relate to dictionaries in Python?**\n",
        "  - Hash Table: A hash table is a data structure that stores data as key–value pairs and allows for fast retrieval.  \n",
        "  *Each key is passed through a hash function, which converts it into a hash value (usually an integer).    \n",
        "  *The hash value determines the index in an internal array where the value is stored.    \n",
        "  *This allows Python to quickly find a value if you know its key, without scanning the whole collection.   \n",
        "  **Key Properties**    \n",
        "  *Fast access: Searching, inserting, and deleting are generally O(1) on average.  \n",
        "  *Unique keys: Each key maps to exactly one value.    \n",
        "  *Collision handling: If two keys produce the same hash value, Python handles it internally (using techniques like chaining).    \n",
        "  **Hash Tables Relate to Python Dictionaries**   \n",
        "  Python dictionaries (dict) are implemented using hash tables.\n",
        "  Example:  \n",
        "  student = {\"name\": \"Rahul\", \"age\": 20}    \n",
        "  print(student[\"name\"])    \n",
        "  - \"name\" is hashed → produces a unique hash value.    \n",
        "  - The hash value points to the memory location of \"Rahul\".  \n",
        "  - Python retrieves \"Rahul\" directly, without scanning all entries.  \n",
        "  *Dictionaries Are Fast Because dictionaries use hash tables, key lookup is extremely fast, even for large datasets.   \n",
        "  *Adding, updating, or deleting a key-value pair is also very efficient.\n",
        "# **9.\tCan lists contain different data types in Python?**\n",
        "  - Yes, Python lists can contain elements of different data types. This is because Python lists are heterogeneous, meaning they can store integers, floats, strings, booleans, objects, or even other lists in a single list. There is no restriction on the type of elements. This flexibility allows lists to store complex collections of data, making them a very versatile data structure in Python.    \n",
        "  Example: A list can be defined as-  \n",
        "  my_list = [10, \"Python\", 3.14, True, [1, 2, 3]]\n",
        "# **10.\tExplain why strings are immutable in Python?**\n",
        "  - Strings in Python are immutable, which means once a string is created, its value cannot be changed. If any modification is needed, a new string object is created instead of altering the original one.   \n",
        "**  strings are immutable in Python:**    \n",
        "  **1.Memory Efficiency:** Immutability allows Python to reuse string objects in memory, reducing memory usage.   \n",
        "  **2.Hashing Support:** Since strings are immutable, they can be used as keys in dictionaries and elements in sets, which rely on consistent hash values.    \n",
        "  **3.Safety and Integrity:** Immutable strings prevent accidental changes, ensuring that data stored in a string remains consistent throughout the program.    \n",
        "  **4.Performance:** Operations like string concatenation, slicing, and hashing are more predictable and optimized because strings cannot change in place.    \n",
        "  **Example:**    \n",
        "  word = \"Python\"   \n",
        "  new_word = word + \"3.10\"  # Creates a new string object   \n",
        "  print(new_word)           # Python3.10    \n",
        "  print(word)               # Original string remains unchanged → Python    \n",
        "# **11.\tWhat advantages do dictionaries offer over lists for certain tasks?**\n",
        "  - Dictionaries in Python offer several advantages over lists for tasks that involve associating keys with values or fast data lookup:   \n",
        "  **1.Fast Lookup by Key:**\n",
        "  *Dictionaries use hash tables internally, so accessing a value by key is much faster (average O(1)) than searching through a list (O(n)).\n",
        "  **2.Key–Value Pair Storage:**\n",
        "  *Dictionaries store data as key–value pairs, making it easy to associate related information.\n",
        "  *Lists only store values, so extra logic is needed to maintain associations.    \n",
        "  **3.Unique Keys:**  \n",
        "  *Dictionary keys are unique, preventing duplicate entries for the same identifier.    \n",
        "  *Lists can contain duplicates, which may complicate certain tasks.  \n",
        "  **4.Flexible and Dynamic:**   \n",
        "  *Dictionaries allow easy insertion, deletion, and updating of key–value pairs without reorganizing the entire structure.    \n",
        "  **5.Direct Access to Specific Data:**\n",
        "  *When you know the key, you can directly access the corresponding value.\n",
        "  In a list, you would need to iterate through elements to find a specific item.    \n",
        "  **Example:**    \n",
        "  -# Dictionary    \n",
        "  student = {\"name\": \"Rahul\", \"age\": 20}    \n",
        "  print(student[\"name\"])  # Direct access → Rahul   \n",
        "  -# List    \n",
        "  students = [[\"name\", \"Rahul\"], [\"age\", 20]]   \n",
        "  -# Must iterate to find \"name\"   \n",
        "# **12.\tDescribe a scenario where using a tuple would be preferable over a list.**\n",
        "  - A tuple would be preferable over a list when the data is fixed, should not be changed, and must remain consistent. Because tuples are immutable, they ensure that the stored values cannot be accidentally modified.  \n",
        "  **Example Scenarios:**    \n",
        "  **1.Storing Coordinates:** Latitude and longitude values of a location:\n",
        "  location = (22.5726, 88.3639)  # Latitude, Longitude  \n",
        "  These values should remain constant, so a tuple is ideal.   \n",
        "  **2.Using as Dictionary Keys:**\n",
        "  Tuples can be used as keys in dictionaries, whereas lists cannot:   \n",
        "  my_dict = { (1, 2): \"Point A\", (3, 4): \"Point B\" }    \n",
        "  **3.Configuration Data or Constants:**  \n",
        "  Settings or fixed sequences in a program:   \n",
        "  COLORS = (\"Red\", \"Green\", \"Blue\")  # Should not change.   \n",
        "# **13.\tHow do sets handle duplicate values in Python?**\n",
        "  - In Python, a set is an unordered collection of unique elements. This means that duplicate values are automatically removed when added to a set.   \n",
        "  **Key Points:**   \n",
        "  **1.Uniqueness:** Sets do not allow duplicate elements. If the same value is added multiple times, it will appear only once in the set.   \n",
        "  **2.Automatic Handling:** Python automatically filters out duplicates when creating a set from a list or adding elements individually.    \n",
        "  **3.Unordered:** Sets do not preserve the order of elements, so duplicates are removed without considering position.  \n",
        "  **Example:**    \n",
        "  numbers = [1, 2, 2, 3, 3, 4]  \n",
        "  unique_numbers = set(numbers)   \n",
        "  print(unique_numbers)  # Output: {1, 2, 3, 4}     \n",
        "# **14.\tHow does the “in” keyword work differently for lists and dictionaries?**\n",
        "- The in keyword in Python is used to check membership, but it behaves differently for lists and dictionaries due to their structure.\n",
        "  **1. Lists**    \n",
        "  *Lists are ordered collections of elements.   \n",
        "  *Using in with a list checks whether the value exists among the elements.   \n",
        "  *The search is linear, so Python checks each element one by one.    \n",
        "  Example (List):\n",
        "  my_list = [10, 20, 30]  \n",
        "  print(20 in my_list)  # True    \n",
        "  print(40 in my_list)  # False   \n",
        "  **2. Dictionaries**   \n",
        "  *Dictionaries are key-value pairs.    \n",
        "  *Using in with a dictionary checks only the keys, not the values.   \n",
        "  *Lookup is fast (O(1)), because dictionaries use hashing.   \n",
        "  Example (Dictionary):   \n",
        "  student = {\"name\": \"Rahul\", \"age\": 20}    \n",
        "  print(\"name\" in student)   # True (key exists)    \n",
        "  print(\"Rahul\" in student)  # False (checks keys, not values)    \n",
        "# **15.\tCan you modify the elements of a tuple? explain why or why not.**\n",
        "  - No, you cannot modify the elements of a tuple in Python. This is because tuples are immutable, meaning once a tuple is created, its contents cannot be changed, added, or removed.    \n",
        "  **Tuple Immutability:**   \n",
        "  **1.Data Integrity:** Immutability ensures that the data remains consistent and safe throughout the program.  \n",
        "  **2.Hashability:** Immutable tuples can be used as keys in dictionaries and elements in sets, while mutable objects like lists cannot.  \n",
        "  **3.Performance:** Immutable objects are generally faster and more memory-efficient because Python does not have to manage changes.   \n",
        "  Example:  \n",
        "  my_tuple = (10, 20, 30)   \n",
        "  .# my_tuple[0] = 100   Error: cannot modify tuple   \n",
        "  Any attempt to change an element raises a TypeError.  \n",
        "  To “modify” a tuple, you must create a new tuple with the desired changes:\n",
        "  new_tuple = (100,) + my_tuple[1:]   \n",
        "  print(new_tuple)  # (100, 20, 30)\n",
        "# **16.\tWhat is a nested dictionary, and give an example of its use case?**\n",
        "  - A nested dictionary in Python is a dictionary that contains another dictionary (or dictionaries) as its values. This allows you to store complex, hierarchical data in a structured way.  \n",
        "  Key Points:   \n",
        "  1.Each key in the outer dictionary can map to a dictionary as its value.  \n",
        "  2.Useful for representing multi-level data, like records, configuration settings, or JSON-like data.    \n",
        "  3.Provides easy access to hierarchical data using multiple keys.\n",
        "  Example:    \n",
        "  students = {  \n",
        "    \"S001\": {\"name\": \"Rahul\", \"age\": 20, \"course\": \"Python\"},\n",
        "    \"S002\": {\"name\": \"Anjali\", \"age\": 22, \"course\": \"Java\"},  \n",
        "    }   \n",
        "  .#Access nested data   \n",
        "  print(students[\"S001\"][\"name\"])  # Rahul  \n",
        "  print(students[\"S002\"][\"course\"])  # Java\n",
        "# **17. Describe the time complexity of accessing elements in a dictionary.**\n",
        "  - In Python, dictionaries are implemented using hash tables, which provide fast access to elements.   \n",
        "  **Key Points on Time Complexity:**    \n",
        "  **1.Average Case:**   \n",
        "  *Accessing a value by key is O(1) (constant time) on average.   \n",
        "  *This is because the dictionary uses a hash function to directly locate the value in memory.  \n",
        "  **2.Worst Case:**   \n",
        "  *In rare cases, when multiple keys produce the same hash value (hash collision), access can degrade to O(n), where n is the number of items in the dictionary.  \n",
        "  *Python handles collisions internally, so this worst-case scenario is uncommon.   \n",
        "  **Example:**  \n",
        "  student = {\"name\": \"Rahul\", \"age\": 20, \"course\": \"Python\"}  \n",
        "  print(student[\"name\"])  # Access in O(1) average time   \n",
        "# **18.\tIn what situations are lists preferred over dictionaries?**\n",
        "  - Lists in Python are preferred over dictionaries in situations where order matters, duplicate elements are allowed, or simple sequential storage is needed.  \n",
        "  **Key Situations Where Lists Are Preferred:**   \n",
        "  **1.Maintaining Order:**\n",
        "  Lists preserve the order of elements, making them ideal when the sequence of items is important.    \n",
        "  fruits = [\"Apple\", \"Banana\", \"Cherry\"]    \n",
        "  **2.Allowing Duplicates:** Lists can contain duplicate values, whereas dictionary keys must be unique.  \n",
        "  numbers = [1, 2, 2, 3, 3, 3]    \n",
        "  **3.Simple Collections of Items:** When you just need a collection of values without key-value association, lists are simpler and more readable.  \n",
        "  **4.Index-Based Access:** Lists allow direct access by index, which is useful for loops, slices, or sequential operations.    \n",
        "  print(fruits[1])  # Banana    \n",
        "  **5.Iterative Operations:** Lists are convenient for iterating over elements, performing operations like sorting, filtering, or mapping.\n",
        "# **19.\tWhy are dictionaries considered unordered, and how does that affect data retrieval.**\n",
        "  - In Python, dictionaries are considered unordered collections (prior to Python 3.7) because the items are not stored in the order they are added. Instead, they are stored based on the hash values of their keys to allow fast access and retrieval.  \n",
        "  **Key Points:**   \n",
        "  **1.Unordered Nature:**   \n",
        "  *Dictionary items are stored in a way that optimizes lookup speed rather than maintaining insertion order.  \n",
        "  *This means iterating over a dictionary may not return items in the order they were added (before Python 3.7).  \n",
        "  **2.Effect on Data Retrieval:**   \n",
        "  *Accessing a value by its key is fast (O(1)), because Python uses hashing, not sequential search.   \n",
        "  *The unordered nature does not affect key-based access, but it can affect tasks where insertion order matters, like generating reports in a specific order.   \n",
        "  **3.Python 3.7+ Update:**   \n",
        "  *From Python 3.7 onward, dictionaries preserve insertion order as an implementation detail, but they are still considered unordered in concept because the primary focus is key-value access, not ordering.   \n",
        "  **Example:**    \n",
        "  student = {\"name\": \"Rahul\", \"age\": 20, \"course\": \"Python\"}  \n",
        "  for key in student:   \n",
        "    print(key, student[key])  "
      ],
      "metadata": {
        "id": "Gt2_Lzd1cORg"
      }
    },
    {
      "cell_type": "markdown",
      "source": [
        "# **Practical Question**"
      ],
      "metadata": {
        "id": "YBhXbEVq__IJ"
      }
    },
    {
      "cell_type": "code",
      "source": [
        "# 1.\tWrite a code to create a string with your name and print it.\n",
        "name = \"Sangita Paul\"\n",
        "print(name)"
      ],
      "metadata": {
        "colab": {
          "base_uri": "https://localhost:8080/"
        },
        "id": "1_krYu93AFiT",
        "outputId": "5e360bf6-9da5-429e-f5e1-9511d2029992"
      },
      "execution_count": 1,
      "outputs": [
        {
          "output_type": "stream",
          "name": "stdout",
          "text": [
            "Sangita Paul\n"
          ]
        }
      ]
    },
    {
      "cell_type": "code",
      "source": [
        "# 2.\tWrite a code to find the length of the string “Hello World”.\n",
        "text = \"Hello World\"\n",
        "length = len(text)\n",
        "print(\"Length of the string:\", length)"
      ],
      "metadata": {
        "colab": {
          "base_uri": "https://localhost:8080/"
        },
        "id": "54s7bQqPAVRs",
        "outputId": "598be5ef-4c7a-426b-ad46-ac50e4fa3691"
      },
      "execution_count": 2,
      "outputs": [
        {
          "output_type": "stream",
          "name": "stdout",
          "text": [
            "Length of the string: 11\n"
          ]
        }
      ]
    },
    {
      "cell_type": "code",
      "source": [
        "# 3.\tWrite a code to slice the first 3 characters from the string “Python Programming”.\n",
        "text = \"Python Programming\"\n",
        "first_three = text[:3]\n",
        "print(\"First 3 characters:\", first_three)"
      ],
      "metadata": {
        "colab": {
          "base_uri": "https://localhost:8080/"
        },
        "id": "Wgjk15KmAqrp",
        "outputId": "8f9c2700-fd5f-48da-fa9f-3e480bdb8b0c"
      },
      "execution_count": 3,
      "outputs": [
        {
          "output_type": "stream",
          "name": "stdout",
          "text": [
            "First 3 characters: Pyt\n"
          ]
        }
      ]
    },
    {
      "cell_type": "code",
      "source": [
        "# 4.\tWrite a code to convert the string “hello” to uppercase\n",
        "text = \"hello\"\n",
        "uppercase_text = text.upper()\n",
        "print(\"Uppercase string:\", uppercase_text)"
      ],
      "metadata": {
        "colab": {
          "base_uri": "https://localhost:8080/"
        },
        "id": "lcn5bJYJA8cF",
        "outputId": "9d99c2a3-a9f4-4aed-9db2-ab743464cf38"
      },
      "execution_count": 4,
      "outputs": [
        {
          "output_type": "stream",
          "name": "stdout",
          "text": [
            "Uppercase string: HELLO\n"
          ]
        }
      ]
    },
    {
      "cell_type": "code",
      "source": [
        "# 5.\tWhite a code to replace the word “apple” with “orange” in the string  “I like apple”.\n",
        "text = \"I like apple\"\n",
        "new_text = text.replace(\"apple\", \"orange\")\n",
        "print(new_text)"
      ],
      "metadata": {
        "colab": {
          "base_uri": "https://localhost:8080/"
        },
        "id": "LcEz8V1ABH_C",
        "outputId": "ef8446e3-08b9-46bc-995d-cdc8f0deb0e9"
      },
      "execution_count": 5,
      "outputs": [
        {
          "output_type": "stream",
          "name": "stdout",
          "text": [
            "I like orange\n"
          ]
        }
      ]
    },
    {
      "cell_type": "code",
      "source": [
        "# 6.\tWrite a code to create a list with number 1 to 5 and print it.\n",
        "numbers = [1, 2, 3, 4, 5]\n",
        "print(\"List of numbers:\", numbers)"
      ],
      "metadata": {
        "colab": {
          "base_uri": "https://localhost:8080/"
        },
        "id": "KMdDOUWUBe-E",
        "outputId": "328354dd-fe2a-46cd-8c66-1e1711efb543"
      },
      "execution_count": 6,
      "outputs": [
        {
          "output_type": "stream",
          "name": "stdout",
          "text": [
            "List of numbers: [1, 2, 3, 4, 5]\n"
          ]
        }
      ]
    },
    {
      "cell_type": "code",
      "source": [
        "# 7.\tWrite a code to append the number 10 to the list [1,2,3,4].\n",
        "numbers = [1, 2, 3, 4]\n",
        "numbers.append(10)\n",
        "print(\"Updated list:\", numbers)"
      ],
      "metadata": {
        "colab": {
          "base_uri": "https://localhost:8080/"
        },
        "id": "GKrhWhVOBydL",
        "outputId": "c4072c15-0486-4cf4-bed7-d3992e858f60"
      },
      "execution_count": 7,
      "outputs": [
        {
          "output_type": "stream",
          "name": "stdout",
          "text": [
            "Updated list: [1, 2, 3, 4, 10]\n"
          ]
        }
      ]
    },
    {
      "cell_type": "code",
      "source": [
        "# 8.\tWrite a code to remove the number 3 from the list [1,2,3,4,5].\n",
        "numbers = [1, 2, 3, 4, 5]\n",
        "numbers.remove(3)\n",
        "print(\"Updated list:\", numbers)"
      ],
      "metadata": {
        "colab": {
          "base_uri": "https://localhost:8080/"
        },
        "id": "Joba-B40CGvU",
        "outputId": "dc468567-309a-4d97-99d4-a420721dad06"
      },
      "execution_count": 8,
      "outputs": [
        {
          "output_type": "stream",
          "name": "stdout",
          "text": [
            "Updated list: [1, 2, 4, 5]\n"
          ]
        }
      ]
    },
    {
      "cell_type": "code",
      "source": [
        "# 9.\tWrite a code to access the second element in the list [‘a’, ‘b’, ‘c’, ‘d,].\n",
        "letters = ['a', 'b', 'c', 'd']\n",
        "second_element = letters[1]\n",
        "print(\"Second element:\", second_element)\n"
      ],
      "metadata": {
        "colab": {
          "base_uri": "https://localhost:8080/"
        },
        "id": "GLWL8al9CSsZ",
        "outputId": "a2de1024-8dea-4212-dc0c-0d981ae3fbce"
      },
      "execution_count": 9,
      "outputs": [
        {
          "output_type": "stream",
          "name": "stdout",
          "text": [
            "Second element: b\n"
          ]
        }
      ]
    },
    {
      "cell_type": "code",
      "source": [
        "# 10.\tWrite a code to reverse the list [10,20,30,40,50]\n",
        "numbers = [10, 20, 30, 40, 50]\n",
        "numbers.reverse()\n",
        "print(\"Reversed list:\", numbers)"
      ],
      "metadata": {
        "colab": {
          "base_uri": "https://localhost:8080/"
        },
        "id": "LIqWpiCgCmbn",
        "outputId": "fbc27858-312c-46bc-ac26-b87298906bf7"
      },
      "execution_count": 10,
      "outputs": [
        {
          "output_type": "stream",
          "name": "stdout",
          "text": [
            "Reversed list: [50, 40, 30, 20, 10]\n"
          ]
        }
      ]
    },
    {
      "cell_type": "code",
      "source": [
        "# 11.\tWrite a code to create a tuple with the elements 100, 200, 300 and print it.\n",
        "numbers = (100, 200, 300)\n",
        "print(\"Tuple:\", numbers)"
      ],
      "metadata": {
        "colab": {
          "base_uri": "https://localhost:8080/"
        },
        "id": "mWzpAG9ZC232",
        "outputId": "88474cdd-7390-4ac8-8c9c-3c5abe1990eb"
      },
      "execution_count": 11,
      "outputs": [
        {
          "output_type": "stream",
          "name": "stdout",
          "text": [
            "Tuple: (100, 200, 300)\n"
          ]
        }
      ]
    },
    {
      "cell_type": "code",
      "source": [
        "# 12.\tWrite a code to access the second-to-last element to the tuple (‘red, ‘green’, ‘blue’, ‘yellow’).\n",
        "colors = ('red', 'green', 'blue', 'yellow')\n",
        "second_to_last = colors[-2]\n",
        "print(\"Second-to-last element:\", second_to_last)"
      ],
      "metadata": {
        "colab": {
          "base_uri": "https://localhost:8080/"
        },
        "id": "LWumA4zfDG1C",
        "outputId": "f10829e2-3977-4ad6-bcb5-524e3f88c806"
      },
      "execution_count": 12,
      "outputs": [
        {
          "output_type": "stream",
          "name": "stdout",
          "text": [
            "Second-to-last element: blue\n"
          ]
        }
      ]
    },
    {
      "cell_type": "code",
      "source": [
        "# 13.\tWrite a code to find the minimum number in the tuple (10,20,5,15).\n",
        "numbers = (10, 20, 5, 15)\n",
        "min_number = min(numbers)\n",
        "print(\"Minimum number in the tuple:\", min_number)"
      ],
      "metadata": {
        "colab": {
          "base_uri": "https://localhost:8080/"
        },
        "id": "ST1V2IozDb1A",
        "outputId": "84594b92-6ed3-4dff-f63d-5852a42ed287"
      },
      "execution_count": 13,
      "outputs": [
        {
          "output_type": "stream",
          "name": "stdout",
          "text": [
            "Minimum number in the tuple: 5\n"
          ]
        }
      ]
    },
    {
      "cell_type": "code",
      "source": [
        "# 14.\tWrite a code to find the index to the element “cat” in the tuple (‘dog’, ‘cat’, ‘rabbit’)\n",
        "animals = ('dog', 'cat', 'rabbit')\n",
        "index_of_cat = animals.index('cat')\n",
        "print(\"Index of 'cat':\", index_of_cat)"
      ],
      "metadata": {
        "colab": {
          "base_uri": "https://localhost:8080/"
        },
        "id": "TcZmXUiKDp3y",
        "outputId": "dad444a6-44d6-48d7-dec8-b63b79d8aae4"
      },
      "execution_count": 17,
      "outputs": [
        {
          "output_type": "stream",
          "name": "stdout",
          "text": [
            "Index of 'cat': 1\n"
          ]
        }
      ]
    },
    {
      "cell_type": "code",
      "source": [
        "# 15.\tWrite a code to create a tuple containing three different fruits and check if “kiwi” is in it.\n",
        "fruits = ('apple', 'banana', 'mango')\n",
        "if 'kiwi' in fruits:\n",
        "    print(\"Kiwi is in the tuple.\")\n",
        "else:\n",
        "    print(\"Kiwi is not in the tuple.\")"
      ],
      "metadata": {
        "colab": {
          "base_uri": "https://localhost:8080/"
        },
        "id": "-k98gAckD8pk",
        "outputId": "ecd827f9-8e6b-439f-f07a-8aca3ba508a8"
      },
      "execution_count": 18,
      "outputs": [
        {
          "output_type": "stream",
          "name": "stdout",
          "text": [
            "Kiwi is not in the tuple.\n"
          ]
        }
      ]
    },
    {
      "cell_type": "code",
      "source": [
        "# 16.\tWrite a code to create a set with the element ‘a’, ‘b’, ‘c’ and print it\n",
        "letters = {'a', 'b', 'c'}\n",
        "print(\"Set:\", letters)"
      ],
      "metadata": {
        "colab": {
          "base_uri": "https://localhost:8080/"
        },
        "id": "ermRBzPxFYGn",
        "outputId": "9ec96074-e42e-45e5-d090-f56d7b72aab7"
      },
      "execution_count": 21,
      "outputs": [
        {
          "output_type": "stream",
          "name": "stdout",
          "text": [
            "Set: {'b', 'c', 'a'}\n"
          ]
        }
      ]
    },
    {
      "cell_type": "code",
      "source": [
        "# 17.\tWrite a code to clear all elements for the set {1,2,3,4,5}.\n",
        "numbers = {1, 2, 3, 4, 5}\n",
        "numbers.clear()\n",
        "print(\"Cleared set:\", numbers)"
      ],
      "metadata": {
        "colab": {
          "base_uri": "https://localhost:8080/"
        },
        "id": "fAfAXR_zFl-v",
        "outputId": "3b3d0906-3a7f-4e34-fedc-8e1d4125566f"
      },
      "execution_count": 22,
      "outputs": [
        {
          "output_type": "stream",
          "name": "stdout",
          "text": [
            "Cleared set: set()\n"
          ]
        }
      ]
    },
    {
      "cell_type": "code",
      "source": [
        "# 18.\tWrite a code to remove the element 4 from the set {1,2,3,4}\n",
        "numbers = {1, 2, 3, 4}\n",
        "numbers.remove(4)\n",
        "print(\"Updated set:\", numbers)"
      ],
      "metadata": {
        "colab": {
          "base_uri": "https://localhost:8080/"
        },
        "id": "K_XZ11Y9HWUE",
        "outputId": "965a58ea-8981-4dd2-a824-b1b0cd7f5ffd"
      },
      "execution_count": 23,
      "outputs": [
        {
          "output_type": "stream",
          "name": "stdout",
          "text": [
            "Updated set: {1, 2, 3}\n"
          ]
        }
      ]
    },
    {
      "cell_type": "code",
      "source": [
        "# 19.\tWrite a code to find the union of two set {1,2,3} and {3,4,5}.\n",
        "set1 = {1, 2, 3}\n",
        "set2 = {3, 4, 5}\n",
        "union_set = set1.union(set2)\n",
        "print(\"Union of the sets:\", union_set)"
      ],
      "metadata": {
        "colab": {
          "base_uri": "https://localhost:8080/"
        },
        "id": "hdMS2L-cHjrM",
        "outputId": "44f5fb62-647e-42b5-89ac-5e105f740b8a"
      },
      "execution_count": 24,
      "outputs": [
        {
          "output_type": "stream",
          "name": "stdout",
          "text": [
            "Union of the sets: {1, 2, 3, 4, 5}\n"
          ]
        }
      ]
    },
    {
      "cell_type": "code",
      "source": [
        "# 20.\tWrite a code to find to the intersection of two sets {1,2,3} and {2,3,4,}.\n",
        "set1 = {1, 2, 3}\n",
        "set2 = {2, 3, 4}\n",
        "intersection_set = set1.intersection(set2)\n",
        "print(\"Intersection of the sets:\", intersection_set)"
      ],
      "metadata": {
        "colab": {
          "base_uri": "https://localhost:8080/"
        },
        "id": "CdVGljOrHuEG",
        "outputId": "3f737e03-9c22-4c4a-d5f6-7fb07501c782"
      },
      "execution_count": 25,
      "outputs": [
        {
          "output_type": "stream",
          "name": "stdout",
          "text": [
            "Intersection of the sets: {2, 3}\n"
          ]
        }
      ]
    },
    {
      "cell_type": "code",
      "source": [
        "# 21.\tWrite a code to create a dictionary with the key “name”, “age”, and “city”, and print it.\n",
        "person = {\n",
        "    \"name\": \"Sangita\",\n",
        "    \"age\": 25,\n",
        "    \"city\": \"Kolkata\"\n",
        "}\n",
        "print(\"Dictionary:\", person)"
      ],
      "metadata": {
        "colab": {
          "base_uri": "https://localhost:8080/"
        },
        "id": "BGlj3oCFH5O4",
        "outputId": "0ceca6a3-74e0-4987-8f2d-06ca00a0581e"
      },
      "execution_count": 27,
      "outputs": [
        {
          "output_type": "stream",
          "name": "stdout",
          "text": [
            "Dictionary: {'name': 'Sangita', 'age': 25, 'city': 'Kolkata'}\n"
          ]
        }
      ]
    },
    {
      "cell_type": "code",
      "source": [
        "# 22.\tWrite a code to add a new key- value pair “country”: “USA” to the dictionary {‘name’: ‘John’, ‘age’: 25}.\n",
        "person = {'name': 'John', 'age': 25}\n",
        "person['country'] = 'USA'\n",
        "print(\"Updated dictionary:\", person)"
      ],
      "metadata": {
        "colab": {
          "base_uri": "https://localhost:8080/"
        },
        "id": "7Wzlb9-uIMI7",
        "outputId": "72e8ad34-9202-47f8-e67b-41be80b79d4a"
      },
      "execution_count": 28,
      "outputs": [
        {
          "output_type": "stream",
          "name": "stdout",
          "text": [
            "Updated dictionary: {'name': 'John', 'age': 25, 'country': 'USA'}\n"
          ]
        }
      ]
    },
    {
      "cell_type": "code",
      "source": [
        "# 23.\tWrite a code to access the value associated with the key “name” in the dictionary {‘name’: ‘Alice’, ‘age’: 30}\n",
        "person = {'name': 'Alice', 'age': 30}\n",
        "name_value = person['name']\n",
        "print(\"Value of 'name':\", name_value)"
      ],
      "metadata": {
        "colab": {
          "base_uri": "https://localhost:8080/"
        },
        "id": "i9MIEIUgIfat",
        "outputId": "51c09c2f-d748-4989-8240-b09ac8889978"
      },
      "execution_count": 29,
      "outputs": [
        {
          "output_type": "stream",
          "name": "stdout",
          "text": [
            "Value of 'name': Alice\n"
          ]
        }
      ]
    },
    {
      "cell_type": "code",
      "source": [
        "# 24.\t Write a code to remove the “age’ from the dictionary {‘name’: ‘Bob’, ‘age’:22, ‘city’: ‘New York’}.\n",
        "person = {'name': 'Bob', 'age': 22, 'city': 'New York'}\n",
        "person.pop('age')\n",
        "print(\"Updated dictionary:\", person)"
      ],
      "metadata": {
        "colab": {
          "base_uri": "https://localhost:8080/"
        },
        "id": "kMi-pIu2Ipt_",
        "outputId": "4abfa51d-a4ee-4ac1-c319-32a9a9695d9d"
      },
      "execution_count": 30,
      "outputs": [
        {
          "output_type": "stream",
          "name": "stdout",
          "text": [
            "Updated dictionary: {'name': 'Bob', 'city': 'New York'}\n"
          ]
        }
      ]
    },
    {
      "cell_type": "code",
      "source": [
        "# 25.\tWrite a code to check if the “city” exists in the dictionary {‘name’: ‘Alice’, ‘city’: ‘New York’}\n",
        "person = {'name': 'Alice', 'city': 'New York'}\n",
        "if 'city' in person:\n",
        "    print(\"The key 'city' exists in the dictionary.\")\n",
        "else:\n",
        "    print(\"The key 'city' does not exist in the dictionary.\")"
      ],
      "metadata": {
        "colab": {
          "base_uri": "https://localhost:8080/"
        },
        "id": "oHRZBnNEI3I7",
        "outputId": "36922265-61ec-4afe-ad03-d3f629add33a"
      },
      "execution_count": 31,
      "outputs": [
        {
          "output_type": "stream",
          "name": "stdout",
          "text": [
            "The key 'city' exists in the dictionary.\n"
          ]
        }
      ]
    },
    {
      "cell_type": "code",
      "source": [
        "# 26.\tWrite a code to create a list, a tuple, and a dictionary, and a dictionary, and print them all.\n",
        "my_list = [1, 2, 3]\n",
        "my_tuple = ('a', 'b', 'c')\n",
        "my_dict = {'name': 'Alice', 'age': 25}\n",
        "print(\"List:\", my_list)\n",
        "print(\"Tuple:\", my_tuple)\n",
        "print(\"Dictionary:\", my_dict)"
      ],
      "metadata": {
        "colab": {
          "base_uri": "https://localhost:8080/"
        },
        "id": "egZaeKe-JD5a",
        "outputId": "c2fa0e82-efa3-4aa8-ab5e-0b19e432be1f"
      },
      "execution_count": 32,
      "outputs": [
        {
          "output_type": "stream",
          "name": "stdout",
          "text": [
            "List: [1, 2, 3]\n",
            "Tuple: ('a', 'b', 'c')\n",
            "Dictionary: {'name': 'Alice', 'age': 25}\n"
          ]
        }
      ]
    },
    {
      "cell_type": "code",
      "source": [
        "# 27.\tWrite a code to create a list of 5 random numbers between 1 and 100 , short it in ascending order, and print the result(replaced)\n",
        "import random\n",
        "numbers = [random.randint(1, 100) for _ in range(5)]\n",
        "print(\"Original list:\", numbers)\n",
        "numbers.sort()  # sort() modifies the list in place\n",
        "print(\"Sorted list:\", numbers)"
      ],
      "metadata": {
        "colab": {
          "base_uri": "https://localhost:8080/"
        },
        "id": "e9E6vTM0JVyt",
        "outputId": "d690aaeb-d05a-4f74-db29-ba06d6c4f449"
      },
      "execution_count": 33,
      "outputs": [
        {
          "output_type": "stream",
          "name": "stdout",
          "text": [
            "Original list: [42, 51, 45, 40, 61]\n",
            "Sorted list: [40, 42, 45, 51, 61]\n"
          ]
        }
      ]
    },
    {
      "cell_type": "code",
      "source": [
        "# 28.\tWrite a code to create a list with string and print the element at the third index.\n",
        "fruits = ['apple', 'banana', 'cherry', 'date', 'mango']\n",
        "third_element = fruits[3]\n",
        "print(\"Element at index 3:\", third_element)"
      ],
      "metadata": {
        "colab": {
          "base_uri": "https://localhost:8080/"
        },
        "id": "-p7LwPRkJn2y",
        "outputId": "e73f271b-e94b-477c-b4b0-fc4f6f10c609"
      },
      "execution_count": 34,
      "outputs": [
        {
          "output_type": "stream",
          "name": "stdout",
          "text": [
            "Element at index 3: date\n"
          ]
        }
      ]
    },
    {
      "cell_type": "code",
      "source": [
        "# 29.\tWrite a code to combine two dictionaries into one and print the result.\n",
        "dict1 = {'name': 'Alice', 'age': 25}\n",
        "dict2 = {'city': 'New York', 'country': 'USA'}\n",
        "combined_dict = {**dict1, **dict2}  # Using dictionary unpacking\n",
        "print(\"Combined dictionary:\", combined_dict)"
      ],
      "metadata": {
        "colab": {
          "base_uri": "https://localhost:8080/"
        },
        "id": "hrZntvBxJzTu",
        "outputId": "397407b9-430e-4a4a-e9c5-3e0ed42c51bf"
      },
      "execution_count": 35,
      "outputs": [
        {
          "output_type": "stream",
          "name": "stdout",
          "text": [
            "Combined dictionary: {'name': 'Alice', 'age': 25, 'city': 'New York', 'country': 'USA'}\n"
          ]
        }
      ]
    },
    {
      "cell_type": "code",
      "source": [
        "# 30.\tWrite a code convert a list of strings into a set.\n",
        "fruits = ['apple', 'banana', 'cherry', 'apple', 'banana']\n",
        "fruits_set = set(fruits)\n",
        "print(\"Set of fruits:\", fruits_set)"
      ],
      "metadata": {
        "colab": {
          "base_uri": "https://localhost:8080/"
        },
        "id": "F42QtPstKDrR",
        "outputId": "9869cddf-8745-4aa4-e47f-ba979035002b"
      },
      "execution_count": 36,
      "outputs": [
        {
          "output_type": "stream",
          "name": "stdout",
          "text": [
            "Set of fruits: {'banana', 'apple', 'cherry'}\n"
          ]
        }
      ]
    },
    {
      "cell_type": "code",
      "source": [],
      "metadata": {
        "id": "bY81Aoo6LFxR"
      },
      "execution_count": null,
      "outputs": []
    }
  ]
}